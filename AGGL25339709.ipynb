{
 "cells": [
  {
   "cell_type": "markdown",
   "metadata": {},
   "source": [
    "Importer les packages"
   ]
  },
  {
   "cell_type": "code",
   "execution_count": 106,
   "metadata": {},
   "outputs": [],
   "source": [
    "# importer les modules python nécessaires\n",
    "from itertools import product\n",
    "import os\n",
    "from collections import defaultdict\n",
    "import ViennaRNA\n",
    "\n",
    "# Pour lire le fichier fasta\n",
    "from Bio import SeqIO\n",
    "\n",
    "import subprocess\n",
    "\n",
    "# importer numpy\n",
    "import numpy as np\n",
    "\n",
    "# importer les modules scikit-learn nécessaires\n",
    "from sklearn.model_selection import cross_val_score\n",
    "from sklearn.svm import SVC\n",
    "from sklearn.naive_bayes import MultinomialNB, GaussianNB\n",
    "from sklearn.tree import DecisionTreeClassifier\n",
    "from sklearn.metrics import make_scorer, f1_score\n"
   ]
  },
  {
   "cell_type": "markdown",
   "metadata": {},
   "source": [
    "1. Repliement avec RNAfold"
   ]
  },
  {
   "cell_type": "code",
   "execution_count": 175,
   "metadata": {},
   "outputs": [],
   "source": [
    "\n",
    "def executer_rnafold(fichier_fasta, fichier_output):\n",
    "    with open(fichier_output, \"w\") as output_file:\n",
    "        for seq_record in SeqIO.parse(fichier_fasta, \"fasta\"):\n",
    "            sequence = str(seq_record.seq)\n",
    "            process = subprocess.Popen(['RNAfold'], stdin=subprocess.PIPE, stdout=subprocess.PIPE, stderr=subprocess.PIPE, text=True)\n",
    "            [stdout, stderr] = process.communicate(input=sequence)\n",
    "            output_file.write(f\">{seq_record.id}\\n\")  # Write the sequence name\n",
    "            output_file.write(f\"{stdout.split()[0]}\\n{stdout.split()[1]}\\n\")  # Write the RNAfold output\n",
    "        \n",
    "        # print(f\"{stdout.split()[0]}\\n{stdout.split()[1]}\\n\")"
   ]
  },
  {
   "cell_type": "code",
   "execution_count": 174,
   "metadata": {},
   "outputs": [
    {
     "name": "stdout",
     "output_type": "stream",
     "text": [
      "UCUCCGUUUAUCCCACCACUGCCACCAUUAUUGCUACUGUUCAGCAGGUGCUGCUGGUGGUGAUGGUGAUAGUCUGGUGGGGGCGGUGG\n",
      ".(.((((...(((((((((((.((((((((((((.......((((((...)))))))))))))))))).))))..))))))))))).).\n",
      "\n",
      "UGCUGAAAAUAGCCGACCUCCCGGGUAAUCCGGACACGCUCCGAUAGCCACCACCCAGAUGUUACCG\n",
      ".((((....((.(((......))).))...((((.....)))).))))...................\n",
      "\n",
      "AUAUUGAACUCGAGUUGGAAGAGGCGAGUCCGGUCUCAAAGUGACGACUGGCCCCGCCUCUUCCUCUCGGUCCC\n",
      ".......((.((((..((((((((((.(.(((((((((...))).)))))).).)))))))))).))))))...\n",
      "\n"
     ]
    }
   ],
   "source": [
    "fasta_files = [\"Fasta/hsa_hairpin.fasta\", \"Fasta/hsa_hairpin_neg1.fasta\", \"Fasta/hsa_hairpin_neg2.fasta\"]\n",
    "\n",
    "for file in fasta_files :\n",
    "    file_output = f\"Fasta/repliments/{file.split('/')[1].split('.')[0]}_fold.fasta\"\n",
    "    executer_rnafold(file, file_output)"
   ]
  },
  {
   "cell_type": "code",
   "execution_count": 120,
   "metadata": {},
   "outputs": [],
   "source": [
    "def traiter_fasta_fold(fichier_fold):\n",
    "    \n",
    "    repliments = defaultdict(list)\n",
    "\n",
    "    # 1. Lire le fichier fichier_fold et récupérer son contenu dans une liste lignes\n",
    "    with open(fichier_fold, 'r') as file:\n",
    "        lignes = file.readlines()\n",
    "\n",
    "    # supprimer \"\\n\" à la fin des lignes\n",
    "    lignes_propres = [ligne.strip() for ligne in lignes]\n",
    "\n",
    "    # 2. Traiter repliement_fasta pour créer un dictionnaire de listes defaultdict(list)\n",
    "    i = 0\n",
    "    while i < len(lignes_propres):\n",
    "        if lignes_propres[i].startswith('>'):\n",
    "            nom_sequence = lignes_propres[i][1:]\n",
    "            # mettre en lowercase\n",
    "            sequence = lignes_propres[i+1].lower()\n",
    "            structure = lignes_propres[i+2]\n",
    "            repliments[nom_sequence] = [sequence, structure]\n",
    "            i += 3\n",
    "        else:\n",
    "            i += 1\n",
    "\n",
    "    return repliments\n",
    "   \n"
   ]
  },
  {
   "cell_type": "code",
   "execution_count": 136,
   "metadata": {},
   "outputs": [
    {
     "name": "stdout",
     "output_type": "stream",
     "text": [
      "dict_keys(['dict_neg1', 'dict_neg2', 'dict'])\n"
     ]
    }
   ],
   "source": [
    "output_path = \"Fasta/repliments/\"\n",
    "#repliments = []\n",
    "repliments = defaultdict()\n",
    "\n",
    "for file in os.listdir(output_path):\n",
    "    name = f\"dict{file.split('hairpin')[1].split('_rep')[0]}\"\n",
    "    #repliments.append(traiter_fasta_fold(f\"{output_path}{file}\"))\n",
    "    repliments[name] = traiter_fasta_fold(f\"{output_path}{file}\")\n",
    "    \n",
    "# print(repliments.keys())"
   ]
  },
  {
   "cell_type": "markdown",
   "metadata": {},
   "source": [
    "2. Calcul du nombre d’occurrences des triplets"
   ]
  },
  {
   "cell_type": "code",
   "execution_count": 75,
   "metadata": {},
   "outputs": [],
   "source": [
    "\n",
    "def get_all_triplets():    \n",
    "\n",
    "    db = [\"...\", \"..(\", \".((\", \"(((\", \"((.\", \"(..\", \"(.(\", \".(.\"]\n",
    "    nd = [\"a\", \"c\", \"g\", \"u\"]\n",
    "\n",
    "    return [i+j for i,j in product(nd, db)]"
   ]
  },
  {
   "cell_type": "code",
   "execution_count": 76,
   "metadata": {},
   "outputs": [],
   "source": [
    "# Generer les seauence RNQ et leur structures\n",
    "triplets = get_all_triplets()"
   ]
  },
  {
   "cell_type": "code",
   "execution_count": 80,
   "metadata": {},
   "outputs": [],
   "source": [
    "\n",
    "def get_seq_triplets(sequence, structure):\n",
    "   \n",
    "    seq_triplets = defaultdict(int)\n",
    "\n",
    "    assert len(sequence) == len(structure)\n",
    "\n",
    "    struct = re.sub(\"\\)\", \"(\", structure)\n",
    "\n",
    "    seq_tab = list(sequence)\n",
    "    stc_tab = list(struct)\n",
    "\n",
    "    for ind in range(len(seq_tab)):\n",
    "        if ind == 0: \n",
    "            before = \".\"\n",
    "        else: \n",
    "            before = stc_tab[ind-1]\n",
    "\n",
    "        midlle = stc_tab[ind]\n",
    "\n",
    "        if ind == len(seq_tab)-1: \n",
    "            after = \".\"\n",
    "        else:\n",
    "            after = stc_tab[ind+1]\n",
    "\n",
    "        triplet = seq_tab[ind] + before + midlle + after\n",
    "        seq_triplets[triplet] += 1\n",
    "\n",
    "    return seq_triplets"
   ]
  },
  {
   "cell_type": "code",
   "execution_count": 144,
   "metadata": {},
   "outputs": [],
   "source": [
    "# Calculer les occurences des triplets dans les sequences et structures\n",
    "for repliment in repliments.values() :\n",
    "    #print(repliment)\n",
    "    for sequence, structure in repliment.values():\n",
    "        seq_triplets = get_seq_triplets(sequence, structure)\n",
    "        #print(f\"Occurrences of triplets in sequence {sequence}: {seq_triplets}\")"
   ]
  },
  {
   "cell_type": "code",
   "execution_count": 85,
   "metadata": {},
   "outputs": [],
   "source": [
    "\n",
    "def calculer_Xu_triplets(repliements):\n",
    "   \n",
    "    liste_triplets = get_all_triplets()\n",
    "\n",
    "    nb_sequences = len(repliements)\n",
    "    nb_triplets = len(liste_triplets)\n",
    "\n",
    "    triplets = np.zeros((nb_sequences, nb_triplets))\n",
    "    \n",
    "    for i, nom in enumerate(repliements):\n",
    "        seq_triplets = get_seq_triplets(repliements[nom][0], repliements[nom][1])\n",
    "        \n",
    "        for j, triplet in enumerate(liste_triplets):\n",
    "            if triplet in seq_triplets:\n",
    "                triplets[i, j] = seq_triplets[triplet]\n",
    "    \n",
    "    return triplets"
   ]
  },
  {
   "cell_type": "code",
   "execution_count": 159,
   "metadata": {},
   "outputs": [
    {
     "name": "stdout",
     "output_type": "stream",
     "text": [
      "dict_keys(['dict_neg1', 'dict_neg2', 'dict'])\n"
     ]
    }
   ],
   "source": [
    "# Cette cellule est dédiée pour tester calculer_Xu_triplets()\n",
    "Xu_triplets = defaultdict()\n",
    "for repliment, name in zip( repliments.values(), repliments.keys() ):\n",
    "    #print(name)\n",
    "    Xu_triplets[name] = calculer_Xu_triplets(repliment)\n",
    "print(Xu_triplets.keys())"
   ]
  },
  {
   "cell_type": "markdown",
   "metadata": {},
   "source": [
    "3. Construction du jeu de données d'entrainement"
   ]
  },
  {
   "cell_type": "code",
   "execution_count": 87,
   "metadata": {},
   "outputs": [],
   "source": [
    "\n",
    "def construire_dataset(data1, data2):\n",
    "        \n",
    "    # 1. Construire X\n",
    "\n",
    "    X = np.concatenate((data1, data2), axis=0)\n",
    "    X_min = X.min(axis=0)\n",
    "    X_max = X.max(axis=0)\n",
    "\n",
    "    # 2. Mettre à l'échelle les valeurs de X entre 0 et 1 avec la méthode min-max\n",
    "\n",
    "    X = (X - X_min) / (X_max - X_min)\n",
    "\n",
    "    # 3. Construire y\n",
    "    \n",
    "    y = np.concatenate((np.zeros(data1.shape[0]), np.ones(data2.shape[0])))\n",
    "\n",
    "    assert X.shape[0] == y.shape[0]\n",
    "\n",
    "    return X, y\n"
   ]
  },
  {
   "cell_type": "code",
   "execution_count": 158,
   "metadata": {},
   "outputs": [],
   "source": [
    "# Est-ce on a besoin des deux autres fichiers d'hairpin ? \n",
    "# mais ils sont les deux de classe negative\n",
    "# Data 1\n",
    "#executer_rnafold(\"Fasta/hsa_hairpin_neg1.fasta\", \"Fasta/repliments/hsa_hairpin_neg1_repliments.txt\")\n",
    "#data1dict = traiter_fasta_fold(\"Fasta/repliments/hsa_hairpin_neg1_repliments.txt\")\n",
    "#for sequence, structure in data1dict.values():\n",
    "    #seq_triplets = get_seq_triplets(sequence, structure)\n",
    "    # print(f\"Occurrences of triplets in sequence {sequence}: {seq_triplets}\")\n",
    "#data1 = calculer_Xu_triplets(data1dict)\n"
   ]
  },
  {
   "cell_type": "code",
   "execution_count": 90,
   "metadata": {},
   "outputs": [
    {
     "name": "stdout",
     "output_type": "stream",
     "text": [
      "AUAUUGAACUCGAGUUGGAAGAGGCGAGUCCGGUCUCAAAGUGACGACUGGCCCCGCCUCUUCCUCUCGGUCCC\n",
      ".......((.((((..((((((((((.(.(((((((((...))).)))))).).)))))))))).))))))...\n",
      "\n"
     ]
    }
   ],
   "source": [
    "#executer_rnafold(\"Fasta/hsa_hairpin_neg2.fasta\", \"Fasta/repliments/hsa_hairpin_neg2_repliments.txt\")\n",
    "#data2dict = traiter_fasta_fold(\"Fasta/repliments/hsa_hairpin_neg2_repliments.txt\")\n",
    "#for sequence, structure in data1dict.values():\n",
    "    #seq_triplets = get_seq_triplets(sequence, structure)\n",
    "    # print(f\"Occurrences of triplets in sequence {sequence}: {seq_triplets}\")\n",
    "#data2 = calculer_Xu_triplets(data1dict)"
   ]
  },
  {
   "cell_type": "code",
   "execution_count": 162,
   "metadata": {},
   "outputs": [],
   "source": [
    "x,y = construire_dataset(Xu_triplets[\"dict\"], Xu_triplets[\"dict_neg1\"])\n",
    "#print(x)"
   ]
  },
  {
   "cell_type": "markdown",
   "metadata": {},
   "source": [
    "4. Évaluation et entrainement des modèles supervisés"
   ]
  },
  {
   "cell_type": "code",
   "execution_count": 190,
   "metadata": {},
   "outputs": [],
   "source": [
    "def evaluer_cv_entrainer(x, y, cv, modele=\"lsvc\", mesure='weighted'):\n",
    "    \n",
    "    # Modèles acceptés :\n",
    "    modeles = {\n",
    "        \"lsvc\": SVC(kernel='linear'),\n",
    "        \"nsvc\": SVC(kernel='rbf'),\n",
    "        \"mnb\": MultinomialNB(),\n",
    "        \"gnb\": GaussianNB(),\n",
    "        \"dtc\": DecisionTreeClassifier()\n",
    "    }\n",
    "    \n",
    "    if modele not in modeles:\n",
    "        print(\"Type de modele {} est invalide\".format(modele))\n",
    "        modele = \"lsvc\"\n",
    "        print(\"Le modele {} sera entrainé\".format(modele))\n",
    "    \n",
    "    # 1. Initialiser une instance de classifieur selon la valeur de modele\n",
    "    classifieur = modeles[modele]\n",
    "    \n",
    "    # 2. Calculer les scores de validation croisée du classifieur avec X et y\n",
    "    scorer = make_scorer(f1_score, average=mesure)\n",
    "    scores = cross_val_score(classifieur, x, y, cv=cv, scoring=scorer)\n",
    "    \n",
    "    # 3. Entrainer le classifieur avec X et y\n",
    "    classifieur.fit(x, y)\n",
    "    \n",
    "    return scores, classifieur"
   ]
  },
  {
   "cell_type": "code",
   "execution_count": 166,
   "metadata": {},
   "outputs": [],
   "source": [
    "# Évaluer et entraîner un classifieur avec validation croisée\n",
    "scores, classifieur = evaluer_cv_entrainer(x, y, cv=5, modele=\"lsvc\", mesure='weighted')"
   ]
  },
  {
   "cell_type": "markdown",
   "metadata": {},
   "source": [
    "5. Fonction principale"
   ]
  },
  {
   "cell_type": "code",
   "execution_count": 189,
   "metadata": {},
   "outputs": [],
   "source": [
    "\n",
    "def entrainer_par_triplets(\n",
    "    fasta_seq_pos,\n",
    "    fasta_fold_pos,\n",
    "    fasta_seq_neg,\n",
    "    fasta_fold_neg,\n",
    "    cv,\n",
    "    modele=\"lsvc\",\n",
    "    mesure=\"f1_weighted\"):\n",
    "    \n",
    "\n",
    "    ## 1. Replier les séquences du set positif\n",
    "    # Replier les séquences si le fichier fasta_fold_pos n'existe pas\n",
    "    if not os.path.isfile(fasta_fold_pos):\n",
    "        executer_rnafold(fasta_seq_pos, fasta_fold_pos)\n",
    "    \n",
    "    ## 2. Replier les séquences du set négatif\n",
    "    # Replier les séquences si le fichier fasta_fold_neg n'existe pas\n",
    "    if not os.path.isfile(fasta_fold_neg):\n",
    "        executer_rnafold(fasta_seq_neg, fasta_fold_neg)\n",
    "\n",
    "\n",
    "    ## 3. Traiter les repliements du set positif \n",
    "    repliements_pos = traiter_fasta_fold(fasta_fold_pos)\n",
    "\n",
    "    ## 4. Traiter les repliements du set négatif\n",
    "    repliements_neg1 = traiter_fasta_fold(fasta_fold_neg)\n",
    "\n",
    "    ## 5. Calculer les triplets du set positif\n",
    "    triplets_pos = calculer_Xu_triplets(repliements_pos)\n",
    "\n",
    "    ## 6. Calculer les triplets du set négatif\n",
    "    triplets_neg1 = calculer_Xu_triplets(repliements_neg1)\n",
    "\n",
    "    ## 7. Construire le jeu d'entrainement X et y\n",
    "    x, y = construire_dataset(triplets_pos, triplets_neg1)\n",
    "\n",
    "    ## 8. Évaluer et entrainer le classifieur avec validation croisée\n",
    "    scores, classifieur = evaluer_cv_entrainer(x, y, cv=5, modele=\"lsvc\", mesure='weighted')\n",
    "\n",
    "\n",
    "    return scores, classifieur"
   ]
  },
  {
   "cell_type": "code",
   "execution_count": 169,
   "metadata": {},
   "outputs": [],
   "source": [
    "# Cette cellule est dédiée pour tester entrainer_par_triplets()\n",
    "fasta_seq_pos = \"Fasta/hsa_hairpin.fasta\"\n",
    "fasta_fold_pos = \"Fasta/repliments/hsa_hairpin_repliments.txt\"\n",
    "fasta_seq_neg = \"Fasta/hsa_hairpin_neg1.fasta\"\n",
    "fasta_fold_neg = \"Fasta/repliments/hsa_hairpin_neg1_repliments.txt\"\n",
    "scores, classifieur = entrainer_par_triplets(\n",
    "                            fasta_seq_pos,\n",
    "                            fasta_fold_pos,\n",
    "                            fasta_seq_neg,\n",
    "                            fasta_fold_neg,\n",
    "                            cv=10,\n",
    "                            modele=\"lsvc\",\n",
    "                            mesure=\"f1_weighted\")"
   ]
  },
  {
   "cell_type": "markdown",
   "metadata": {},
   "source": [
    "6. Comparaison des modèles"
   ]
  },
  {
   "cell_type": "code",
   "execution_count": 191,
   "metadata": {},
   "outputs": [],
   "source": [
    "import os\n",
    "from sklearn.model_selection import cross_val_score\n",
    "from sklearn.svm import SVC\n",
    "from sklearn.naive_bayes import MultinomialNB, GaussianNB\n",
    "from sklearn.tree import DecisionTreeClassifier\n",
    "from statistics import mean, stdev\n",
    "\n",
    "\n",
    "def comparer_modeles(\n",
    "    fasta_seq_pos,\n",
    "    fasta_fold_pos,\n",
    "    fasta_seq_neg,\n",
    "    fasta_fold_neg,\n",
    "    cv,\n",
    "    modeles=[\"lsvc\", \"nsvc\", \"mnb\", \"gnb\", \"dtc\"],\n",
    "    mesure=\"f1_weighted\"):\n",
    "\n",
    "    moyennes = []\n",
    "    ecarts_types = []\n",
    "\n",
    "    for modele in modeles:\n",
    "        scores, _ = entrainer_par_triplets(fasta_seq_pos, fasta_fold_pos, fasta_seq_neg, fasta_fold_neg, cv, modele, mesure)\n",
    "        moyennes.append(mean(scores))\n",
    "        ecarts_types.append(stdev(scores))\n",
    "\n",
    "    return moyennes, ecarts_types\n"
   ]
  },
  {
   "cell_type": "code",
   "execution_count": 172,
   "metadata": {},
   "outputs": [],
   "source": [
    "moyennes, ecarts_types = comparer_modeles(\n",
    "                fasta_seq_pos,\n",
    "                fasta_fold_pos,\n",
    "                fasta_seq_neg,\n",
    "                fasta_fold_neg,\n",
    "                cv=10,\n",
    "                modeles=[\"lsvc\", \"nsvc\", \"mnb\", \"gnb\", \"dtc\"],\n",
    "                mesure=\"f1_weighted\")"
   ]
  },
  {
   "cell_type": "markdown",
   "metadata": {},
   "source": [
    "6.1 Comparer les modèles avec les précurseurs de l'humain"
   ]
  },
  {
   "cell_type": "code",
   "execution_count": 173,
   "metadata": {},
   "outputs": [],
   "source": [
    "# Modèles à comparer :\n",
    "comp_modeles = [\"lsvc\", \"nsvc\", \"mnb\", \"gnb\", \"dtc\"]"
   ]
  },
  {
   "cell_type": "code",
   "execution_count": 181,
   "metadata": {},
   "outputs": [
    {
     "name": "stdout",
     "output_type": "stream",
     "text": [
      "f1_weighted de 10-fold validations croisées des modèles :\n",
      "\n",
      "modèle\t: mean\tstd\n",
      "lsvc\t: 0.861\t0.016\n",
      "nsvc\t: 0.861\t0.016\n",
      "mnb\t: 0.861\t0.016\n",
      "gnb\t: 0.861\t0.016\n",
      "dtc\t: 0.861\t0.016\n"
     ]
    }
   ],
   "source": [
    "# Jeu de données 1\n",
    "# ################\n",
    "# séquences du set négatif générées par brassage aléatoire des nucléotides des séquences réelles\n",
    "\n",
    "seq_pos = \"Fasta/hsa_hairpin.fasta\"\n",
    "fold_pos = \"Fasta/repliments/hsa_hairpin_fold.fasta\"\n",
    "\n",
    "seq_neg = \"Fasta/hsa_hairpin_neg1.fasta\"\n",
    "fold_neg = \"Fasta/repliments/hsa_hairpin_neg1_fold.fasta\"\n",
    "\n",
    "cv_iterations = 10\n",
    "mesure_cv = \"f1_weighted\"\n",
    "\n",
    "# Comparaison des modèles\n",
    "moyennes, ecarts_types = comparer_modeles(seq_pos, fold_pos, seq_neg, fold_neg, cv_iterations)\n",
    "\n",
    "print(\"{} de {}-fold validations croisées des modèles :\\n\".format(mesure_cv, cv_iterations))\n",
    "print(\"modèle\\t: mean\\tstd\")\n",
    "\n",
    "for i, modele in enumerate(comp_modeles):\n",
    "    print(\"{}\\t: {:.3f}\\t{:.3f}\".format(modele, moyennes[i], ecarts_types[i]))"
   ]
  },
  {
   "cell_type": "code",
   "execution_count": 178,
   "metadata": {},
   "outputs": [
    {
     "name": "stdout",
     "output_type": "stream",
     "text": [
      "f1_weighted de 10-fold validations croisées des modèles :\n",
      "\n",
      "modèle\t: mean\tstd\n",
      "lsvc\t: 0.639\t0.010\n",
      "nsvc\t: 0.639\t0.010\n",
      "mnb\t: 0.639\t0.010\n",
      "gnb\t: 0.639\t0.010\n",
      "dtc\t: 0.639\t0.010\n"
     ]
    }
   ],
   "source": [
    "# Jeu de données 2\n",
    "# ################\n",
    "# séquences du set négatif générées par relocalisation de sous-séquences dans les séquences réelles\n",
    "\n",
    "seq_pos = \"Fasta/hsa_hairpin.fasta\"\n",
    "fold_pos = \"Fasta/repliments/hsa_hairpin_fold.fasta\"\n",
    "\n",
    "seq_neg = \"Fasta/hsa_hairpin_neg2.fasta\"\n",
    "fold_neg = \"Fasta/repliments/hsa_hairpin_neg2_fold.fasta\"\n",
    "\n",
    "cv_iterations = 10\n",
    "mesure_cv = \"f1_weighted\"\n",
    "\n",
    "# Comparaison des modèles\n",
    "moyennes, ecarts_types = comparer_modeles(seq_pos, fold_pos, seq_neg, fold_neg, cv_iterations)\n",
    "\n",
    "print(\"{} de {}-fold validations croisées des modèles :\\n\".format(mesure_cv, cv_iterations))\n",
    "print(\"modèle\\t: mean\\tstd\")\n",
    "\n",
    "for i, modele in enumerate(comp_modeles):\n",
    "    print(\"{}\\t: {:.3f}\\t{:.3f}\".format(modele, moyennes[i], ecarts_types[i]))"
   ]
  },
  {
   "cell_type": "markdown",
   "metadata": {},
   "source": [
    "Question :\n",
    "    Quelle méthode et quels modèles sont les plus efficaces pour discriminer entre les précurseurs réels et les pseudo-précurseurs ?"
   ]
  },
  {
   "cell_type": "markdown",
   "metadata": {},
   "source": [
    "6.2 Comparer les modèles avec les précuseurs des animaux et des plantes"
   ]
  },
  {
   "cell_type": "code",
   "execution_count": 194,
   "metadata": {},
   "outputs": [
    {
     "name": "stdout",
     "output_type": "stream",
     "text": [
      "f1_weighted de 10-fold validations croisées des modèles :\n",
      "\n",
      "modèle\t: mean\tstd\n",
      "lsvc\t: 0.971\t0.000\n",
      "nsvc\t: 0.971\t0.000\n",
      "mnb\t: 0.971\t0.000\n",
      "gnb\t: 0.971\t0.000\n",
      "dtc\t: 0.971\t0.000\n"
     ]
    }
   ],
   "source": [
    "# Jeu de donnée 3\n",
    "# ################\n",
    "\n",
    "#seq_pos = \"Fasta/Animal/bos_taurus_hairpin.fasta\"\n",
    "#fold_pos = \"Fasta/Animal/repliments/bos_taurus_hairpin_fold.fasta\"\n",
    "\n",
    "seq_pos = \"Fasta/Animal/mu_muscus_hairpin.fa\"\n",
    "fold_pos = \"Fasta/Animal/repliments/mu_muscus_hairpin_fold.fa\"\n",
    "\n",
    "seq_neg = \"Fasta/Plant/arabidopsis_thaliana_miRna.fasta\"\n",
    "fold_neg = \"Fasta/Plant/repliments/arabidopsis_thaliana_miRna_fold.fa\"\n",
    "\n",
    "cv_iterations = 10\n",
    "mesure_cv = \"f1_weighted\"\n",
    "\n",
    "\n",
    "# Comparaison des modèles\n",
    "moyennes, ecarts_types = comparer_modeles(seq_pos, fold_pos, seq_neg, fold_neg, cv_iterations)\n",
    "\n",
    "print(\"{} de {}-fold validations croisées des modèles :\\n\".format(mesure_cv, cv_iterations))\n",
    "print(\"modèle\\t: mean\\tstd\")\n",
    "\n",
    "for i, modele in enumerate(comp_modeles):\n",
    "    print(\"{}\\t: {:.3f}\\t{:.3f}\".format(modele, moyennes[i], ecarts_types[i]))"
   ]
  },
  {
   "cell_type": "markdown",
   "metadata": {},
   "source": [
    "Question\n",
    "Les modèles entrainés avec les triplets peuvent-ils faire la discrimination entre les précurseurs des animaux et ceux des plantes ?"
   ]
  }
 ],
 "metadata": {
  "kernelspec": {
   "display_name": "base",
   "language": "python",
   "name": "python3"
  },
  "language_info": {
   "codemirror_mode": {
    "name": "ipython",
    "version": 3
   },
   "file_extension": ".py",
   "mimetype": "text/x-python",
   "name": "python",
   "nbconvert_exporter": "python",
   "pygments_lexer": "ipython3",
   "version": "3.11.8"
  }
 },
 "nbformat": 4,
 "nbformat_minor": 2
}
